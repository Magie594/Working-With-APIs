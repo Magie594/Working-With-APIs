{
 "cells": [
  {
   "cell_type": "markdown",
   "metadata": {},
   "source": [
    "# Use this notebook for your 3 choices of APIs"
   ]
  },
  {
   "cell_type": "code",
   "execution_count": 97,
   "metadata": {},
   "outputs": [],
   "source": [
    "# Import requests library\n",
    "import requests\n",
    "from pandas import json_normalize\n"
   ]
  },
  {
   "cell_type": "code",
   "execution_count": 58,
   "metadata": {},
   "outputs": [],
   "source": [
    "# print(usajobs)\n",
    "# print(len(usajobs.content))\n",
    "# usajobs.content"
   ]
  },
  {
   "cell_type": "code",
   "execution_count": 39,
   "metadata": {},
   "outputs": [
    {
     "data": {
      "text/plain": [
       "<Response [200]>"
      ]
     },
     "execution_count": 39,
     "metadata": {},
     "output_type": "execute_result"
    }
   ],
   "source": [
    "response = requests.get('https://data.usajobs.gov/api/codelist/agencysubelements')\n",
    "response"
   ]
  },
  {
   "cell_type": "code",
   "execution_count": 59,
   "metadata": {},
   "outputs": [],
   "source": [
    "# response.content"
   ]
  },
  {
   "cell_type": "code",
   "execution_count": 84,
   "metadata": {},
   "outputs": [],
   "source": [
    "import json\n",
    "\n",
    "# response = requests.get('https://data.usajobs.gov/api/codelist/agencysubelements')\n",
    "# response.content\n",
    "# print(len(response.text))\n",
    "# usajobs = response.json()\n",
    "# usajobs\n"
   ]
  },
  {
   "cell_type": "code",
   "execution_count": 44,
   "metadata": {},
   "outputs": [
    {
     "data": {
      "text/plain": [
       "dict"
      ]
     },
     "execution_count": 44,
     "metadata": {},
     "output_type": "execute_result"
    }
   ],
   "source": [
    "type(usajobs)"
   ]
  },
  {
   "cell_type": "code",
   "execution_count": 77,
   "metadata": {},
   "outputs": [
    {
     "data": {
      "text/plain": [
       "{'Code': 'AF',\n",
       " 'Value': 'Department of the Air Force',\n",
       " 'ParentCode': 'DD',\n",
       " 'Acronym': 'AF',\n",
       " 'LastModified': '2021-05-14T11:04:18.77',\n",
       " 'IsDisabled': 'No'}"
      ]
     },
     "execution_count": 77,
     "metadata": {},
     "output_type": "execute_result"
    }
   ],
   "source": [
    "usajobs['CodeList'][0]['ValidValue'][0]"
   ]
  },
  {
   "cell_type": "code",
   "execution_count": 83,
   "metadata": {},
   "outputs": [],
   "source": [
    "# usajobs['CodeList'][0]\n",
    "\n"
   ]
  },
  {
   "cell_type": "code",
   "execution_count": 79,
   "metadata": {},
   "outputs": [
    {
     "data": {
      "text/html": [
       "<div>\n",
       "<style scoped>\n",
       "    .dataframe tbody tr th:only-of-type {\n",
       "        vertical-align: middle;\n",
       "    }\n",
       "\n",
       "    .dataframe tbody tr th {\n",
       "        vertical-align: top;\n",
       "    }\n",
       "\n",
       "    .dataframe thead th {\n",
       "        text-align: right;\n",
       "    }\n",
       "</style>\n",
       "<table border=\"1\" class=\"dataframe\">\n",
       "  <thead>\n",
       "    <tr style=\"text-align: right;\">\n",
       "      <th></th>\n",
       "      <th>Code</th>\n",
       "      <th>Value</th>\n",
       "      <th>ParentCode</th>\n",
       "      <th>Acronym</th>\n",
       "      <th>LastModified</th>\n",
       "      <th>IsDisabled</th>\n",
       "    </tr>\n",
       "  </thead>\n",
       "  <tbody>\n",
       "    <tr>\n",
       "      <th>0</th>\n",
       "      <td>AF</td>\n",
       "      <td>Department of the Air Force</td>\n",
       "      <td>DD</td>\n",
       "      <td>AF</td>\n",
       "      <td>2021-05-14T11:04:18.77</td>\n",
       "      <td>No</td>\n",
       "    </tr>\n",
       "    <tr>\n",
       "      <th>1</th>\n",
       "      <td>AG</td>\n",
       "      <td>Department of Agriculture</td>\n",
       "      <td>NaN</td>\n",
       "      <td>USDA</td>\n",
       "      <td>2021-04-30T11:38:44.897</td>\n",
       "      <td>No</td>\n",
       "    </tr>\n",
       "    <tr>\n",
       "      <th>2</th>\n",
       "      <td>AR</td>\n",
       "      <td>Department of the Army</td>\n",
       "      <td>DD</td>\n",
       "      <td></td>\n",
       "      <td>2021-05-14T11:04:18.897</td>\n",
       "      <td>No</td>\n",
       "    </tr>\n",
       "    <tr>\n",
       "      <th>3</th>\n",
       "      <td>CM</td>\n",
       "      <td>Department of Commerce</td>\n",
       "      <td>NaN</td>\n",
       "      <td>DOC</td>\n",
       "      <td>2021-04-30T11:38:45.873</td>\n",
       "      <td>No</td>\n",
       "    </tr>\n",
       "    <tr>\n",
       "      <th>4</th>\n",
       "      <td>DD</td>\n",
       "      <td>Department of Defense</td>\n",
       "      <td>NaN</td>\n",
       "      <td>DOD</td>\n",
       "      <td>2021-04-30T11:38:46.297</td>\n",
       "      <td>No</td>\n",
       "    </tr>\n",
       "    <tr>\n",
       "      <th>5</th>\n",
       "      <td>DJ</td>\n",
       "      <td>Department of Justice</td>\n",
       "      <td>NaN</td>\n",
       "      <td>DOJ</td>\n",
       "      <td>2021-04-30T11:38:49.93</td>\n",
       "      <td>No</td>\n",
       "    </tr>\n",
       "    <tr>\n",
       "      <th>6</th>\n",
       "      <td>DL</td>\n",
       "      <td>Department of Labor</td>\n",
       "      <td>NaN</td>\n",
       "      <td>DOL</td>\n",
       "      <td>2021-04-30T11:38:50.133</td>\n",
       "      <td>No</td>\n",
       "    </tr>\n",
       "    <tr>\n",
       "      <th>7</th>\n",
       "      <td>ED</td>\n",
       "      <td>Department of Education</td>\n",
       "      <td>NaN</td>\n",
       "      <td>ED</td>\n",
       "      <td>2021-04-30T11:38:50.633</td>\n",
       "      <td>No</td>\n",
       "    </tr>\n",
       "    <tr>\n",
       "      <th>8</th>\n",
       "      <td>DN</td>\n",
       "      <td>Department of Energy</td>\n",
       "      <td>NaN</td>\n",
       "      <td>DOE</td>\n",
       "      <td>2021-04-30T11:38:50.457</td>\n",
       "      <td>No</td>\n",
       "    </tr>\n",
       "    <tr>\n",
       "      <th>9</th>\n",
       "      <td>GS</td>\n",
       "      <td>General Services Administration</td>\n",
       "      <td>NaN</td>\n",
       "      <td>GSA</td>\n",
       "      <td>2021-04-30T11:38:51.85</td>\n",
       "      <td>No</td>\n",
       "    </tr>\n",
       "    <tr>\n",
       "      <th>10</th>\n",
       "      <td>HE</td>\n",
       "      <td>Department of Health and Human Services</td>\n",
       "      <td>NaN</td>\n",
       "      <td>HHS</td>\n",
       "      <td>2023-03-17T10:40:05.937</td>\n",
       "      <td>No</td>\n",
       "    </tr>\n",
       "    <tr>\n",
       "      <th>11</th>\n",
       "      <td>HS</td>\n",
       "      <td>Department of Homeland Security</td>\n",
       "      <td>NaN</td>\n",
       "      <td>DHS</td>\n",
       "      <td>2021-04-30T11:38:52.967</td>\n",
       "      <td>No</td>\n",
       "    </tr>\n",
       "    <tr>\n",
       "      <th>...</th>\n",
       "      <td>...</td>\n",
       "      <td>...</td>\n",
       "      <td>...</td>\n",
       "      <td>...</td>\n",
       "      <td>...</td>\n",
       "      <td>...</td>\n",
       "    </tr>\n",
       "    <tr>\n",
       "      <th>1020</th>\n",
       "      <td>ST00</td>\n",
       "      <td>Department of State - Agency Wide</td>\n",
       "      <td>ST</td>\n",
       "      <td>DOS</td>\n",
       "      <td>2021-04-30T11:38:55.553</td>\n",
       "      <td>No</td>\n",
       "    </tr>\n",
       "    <tr>\n",
       "      <th>1021</th>\n",
       "      <td>ED00</td>\n",
       "      <td>Department of Education - Agency Wide</td>\n",
       "      <td>ED</td>\n",
       "      <td>ED</td>\n",
       "      <td>2021-04-30T11:38:50.633</td>\n",
       "      <td>No</td>\n",
       "    </tr>\n",
       "    <tr>\n",
       "      <th>1022</th>\n",
       "      <td>VA00</td>\n",
       "      <td>Department of Veterans Affairs - Agency Wide</td>\n",
       "      <td>VA</td>\n",
       "      <td>VA</td>\n",
       "      <td>2021-04-30T11:38:56.293</td>\n",
       "      <td>No</td>\n",
       "    </tr>\n",
       "    <tr>\n",
       "      <th>1023</th>\n",
       "      <td>ZZ</td>\n",
       "      <td>Non-Federal Civilian Customers</td>\n",
       "      <td>NaN</td>\n",
       "      <td></td>\n",
       "      <td>2021-03-29T09:28:41.693</td>\n",
       "      <td>No</td>\n",
       "    </tr>\n",
       "    <tr>\n",
       "      <th>1024</th>\n",
       "      <td>HU00</td>\n",
       "      <td>Department of Housing and Urban Development - ...</td>\n",
       "      <td>HU</td>\n",
       "      <td>HUD</td>\n",
       "      <td>2021-04-30T11:38:53.223</td>\n",
       "      <td>No</td>\n",
       "    </tr>\n",
       "    <tr>\n",
       "      <th>1025</th>\n",
       "      <td>NV00</td>\n",
       "      <td>Department of the Navy - Agency Wide</td>\n",
       "      <td>NV</td>\n",
       "      <td></td>\n",
       "      <td>2021-05-14T11:04:18.913</td>\n",
       "      <td>No</td>\n",
       "    </tr>\n",
       "    <tr>\n",
       "      <th>1026</th>\n",
       "      <td>JL00</td>\n",
       "      <td>Judicial Branch - Agency Wide</td>\n",
       "      <td>JL</td>\n",
       "      <td></td>\n",
       "      <td>2021-04-30T11:38:54.083</td>\n",
       "      <td>No</td>\n",
       "    </tr>\n",
       "    <tr>\n",
       "      <th>1027</th>\n",
       "      <td>AG00</td>\n",
       "      <td>Department of Agriculture - Agency Wide</td>\n",
       "      <td>AG</td>\n",
       "      <td>USDA</td>\n",
       "      <td>2021-04-30T11:38:44.897</td>\n",
       "      <td>No</td>\n",
       "    </tr>\n",
       "    <tr>\n",
       "      <th>1028</th>\n",
       "      <td>DL00</td>\n",
       "      <td>Department of Labor - Agency Wide</td>\n",
       "      <td>DL</td>\n",
       "      <td>DOL</td>\n",
       "      <td>2021-04-30T11:38:50.133</td>\n",
       "      <td>No</td>\n",
       "    </tr>\n",
       "    <tr>\n",
       "      <th>1029</th>\n",
       "      <td>OT</td>\n",
       "      <td>Other Agencies and Independent Organizations</td>\n",
       "      <td>NaN</td>\n",
       "      <td></td>\n",
       "      <td>2021-03-29T09:28:41.693</td>\n",
       "      <td>No</td>\n",
       "    </tr>\n",
       "    <tr>\n",
       "      <th>1030</th>\n",
       "      <td>AF00</td>\n",
       "      <td>Department of the Air Force - Agency Wide</td>\n",
       "      <td>AF</td>\n",
       "      <td>AF</td>\n",
       "      <td>2021-05-14T11:04:18.77</td>\n",
       "      <td>No</td>\n",
       "    </tr>\n",
       "    <tr>\n",
       "      <th>1031</th>\n",
       "      <td>TD00</td>\n",
       "      <td>Department of Transportation - Agency Wide</td>\n",
       "      <td>TD</td>\n",
       "      <td>DOT</td>\n",
       "      <td>2021-04-30T11:38:55.777</td>\n",
       "      <td>No</td>\n",
       "    </tr>\n",
       "  </tbody>\n",
       "</table>\n",
       "<p>1032 rows × 6 columns</p>\n",
       "</div>"
      ],
      "text/plain": [
       "      Code                                              Value ParentCode  \\\n",
       "0       AF                        Department of the Air Force         DD   \n",
       "1       AG                          Department of Agriculture        NaN   \n",
       "2       AR                             Department of the Army         DD   \n",
       "3       CM                             Department of Commerce        NaN   \n",
       "4       DD                              Department of Defense        NaN   \n",
       "5       DJ                              Department of Justice        NaN   \n",
       "6       DL                                Department of Labor        NaN   \n",
       "7       ED                            Department of Education        NaN   \n",
       "8       DN                               Department of Energy        NaN   \n",
       "9       GS                    General Services Administration        NaN   \n",
       "10      HE            Department of Health and Human Services        NaN   \n",
       "11      HS                    Department of Homeland Security        NaN   \n",
       "...    ...                                                ...        ...   \n",
       "1020  ST00                  Department of State - Agency Wide         ST   \n",
       "1021  ED00              Department of Education - Agency Wide         ED   \n",
       "1022  VA00       Department of Veterans Affairs - Agency Wide         VA   \n",
       "1023    ZZ                     Non-Federal Civilian Customers        NaN   \n",
       "1024  HU00  Department of Housing and Urban Development - ...         HU   \n",
       "1025  NV00               Department of the Navy - Agency Wide         NV   \n",
       "1026  JL00                      Judicial Branch - Agency Wide         JL   \n",
       "1027  AG00            Department of Agriculture - Agency Wide         AG   \n",
       "1028  DL00                  Department of Labor - Agency Wide         DL   \n",
       "1029    OT       Other Agencies and Independent Organizations        NaN   \n",
       "1030  AF00          Department of the Air Force - Agency Wide         AF   \n",
       "1031  TD00         Department of Transportation - Agency Wide         TD   \n",
       "\n",
       "     Acronym             LastModified IsDisabled  \n",
       "0         AF   2021-05-14T11:04:18.77         No  \n",
       "1       USDA  2021-04-30T11:38:44.897         No  \n",
       "2             2021-05-14T11:04:18.897         No  \n",
       "3        DOC  2021-04-30T11:38:45.873         No  \n",
       "4        DOD  2021-04-30T11:38:46.297         No  \n",
       "5        DOJ   2021-04-30T11:38:49.93         No  \n",
       "6        DOL  2021-04-30T11:38:50.133         No  \n",
       "7         ED  2021-04-30T11:38:50.633         No  \n",
       "8        DOE  2021-04-30T11:38:50.457         No  \n",
       "9        GSA   2021-04-30T11:38:51.85         No  \n",
       "10       HHS  2023-03-17T10:40:05.937         No  \n",
       "11       DHS  2021-04-30T11:38:52.967         No  \n",
       "...      ...                      ...        ...  \n",
       "1020     DOS  2021-04-30T11:38:55.553         No  \n",
       "1021      ED  2021-04-30T11:38:50.633         No  \n",
       "1022      VA  2021-04-30T11:38:56.293         No  \n",
       "1023          2021-03-29T09:28:41.693         No  \n",
       "1024     HUD  2021-04-30T11:38:53.223         No  \n",
       "1025          2021-05-14T11:04:18.913         No  \n",
       "1026          2021-04-30T11:38:54.083         No  \n",
       "1027    USDA  2021-04-30T11:38:44.897         No  \n",
       "1028     DOL  2021-04-30T11:38:50.133         No  \n",
       "1029          2021-03-29T09:28:41.693         No  \n",
       "1030      AF   2021-05-14T11:04:18.77         No  \n",
       "1031     DOT  2021-04-30T11:38:55.777         No  \n",
       "\n",
       "[1032 rows x 6 columns]"
      ]
     },
     "execution_count": 79,
     "metadata": {},
     "output_type": "execute_result"
    }
   ],
   "source": [
    "pd.DataFrame(usajobs['CodeList'][0]['ValidValue'])"
   ]
  },
  {
   "cell_type": "markdown",
   "metadata": {},
   "source": [
    "2."
   ]
  },
  {
   "cell_type": "code",
   "execution_count": 98,
   "metadata": {},
   "outputs": [
    {
     "name": "stdout",
     "output_type": "stream",
     "text": [
      "dog: 200\n"
     ]
    }
   ],
   "source": [
    "dog = response = requests.get(\"https://dog.ceo/api/breeds/list/all\")\n",
    "print(\"dog:\", dog.status_code)"
   ]
  },
  {
   "cell_type": "code",
   "execution_count": 109,
   "metadata": {},
   "outputs": [],
   "source": [
    "# print(dog)\n",
    "# print(len(dog.content))\n",
    "# dog.content"
   ]
  },
  {
   "cell_type": "code",
   "execution_count": 108,
   "metadata": {},
   "outputs": [],
   "source": [
    "# import json\n",
    "\n",
    "# response = requests.get('https://dog.ceo/api/breeds/list/all')\n",
    "# response.content\n",
    "# print(len(response.text))\n",
    "# dog = response.json()\n",
    "# dog\n"
   ]
  },
  {
   "cell_type": "code",
   "execution_count": 101,
   "metadata": {},
   "outputs": [
    {
     "data": {
      "text/plain": [
       "dict"
      ]
     },
     "execution_count": 101,
     "metadata": {},
     "output_type": "execute_result"
    }
   ],
   "source": [
    "type(dog)"
   ]
  },
  {
   "cell_type": "code",
   "execution_count": 106,
   "metadata": {},
   "outputs": [],
   "source": [
    "response = requests.get('https://dog.ceo/api/breeds/list/all')\n",
    "dog = pd.DataFrame(response.json())\n"
   ]
  },
  {
   "cell_type": "code",
   "execution_count": 107,
   "metadata": {},
   "outputs": [
    {
     "data": {
      "text/html": [
       "<div>\n",
       "<style scoped>\n",
       "    .dataframe tbody tr th:only-of-type {\n",
       "        vertical-align: middle;\n",
       "    }\n",
       "\n",
       "    .dataframe tbody tr th {\n",
       "        vertical-align: top;\n",
       "    }\n",
       "\n",
       "    .dataframe thead th {\n",
       "        text-align: right;\n",
       "    }\n",
       "</style>\n",
       "<table border=\"1\" class=\"dataframe\">\n",
       "  <thead>\n",
       "    <tr style=\"text-align: right;\">\n",
       "      <th></th>\n",
       "      <th>message</th>\n",
       "      <th>status</th>\n",
       "    </tr>\n",
       "  </thead>\n",
       "  <tbody>\n",
       "    <tr>\n",
       "      <th>affenpinscher</th>\n",
       "      <td>[]</td>\n",
       "      <td>success</td>\n",
       "    </tr>\n",
       "    <tr>\n",
       "      <th>african</th>\n",
       "      <td>[]</td>\n",
       "      <td>success</td>\n",
       "    </tr>\n",
       "    <tr>\n",
       "      <th>airedale</th>\n",
       "      <td>[]</td>\n",
       "      <td>success</td>\n",
       "    </tr>\n",
       "    <tr>\n",
       "      <th>akita</th>\n",
       "      <td>[]</td>\n",
       "      <td>success</td>\n",
       "    </tr>\n",
       "    <tr>\n",
       "      <th>appenzeller</th>\n",
       "      <td>[]</td>\n",
       "      <td>success</td>\n",
       "    </tr>\n",
       "    <tr>\n",
       "      <th>australian</th>\n",
       "      <td>[shepherd]</td>\n",
       "      <td>success</td>\n",
       "    </tr>\n",
       "    <tr>\n",
       "      <th>basenji</th>\n",
       "      <td>[]</td>\n",
       "      <td>success</td>\n",
       "    </tr>\n",
       "    <tr>\n",
       "      <th>beagle</th>\n",
       "      <td>[]</td>\n",
       "      <td>success</td>\n",
       "    </tr>\n",
       "    <tr>\n",
       "      <th>bluetick</th>\n",
       "      <td>[]</td>\n",
       "      <td>success</td>\n",
       "    </tr>\n",
       "    <tr>\n",
       "      <th>borzoi</th>\n",
       "      <td>[]</td>\n",
       "      <td>success</td>\n",
       "    </tr>\n",
       "    <tr>\n",
       "      <th>bouvier</th>\n",
       "      <td>[]</td>\n",
       "      <td>success</td>\n",
       "    </tr>\n",
       "    <tr>\n",
       "      <th>boxer</th>\n",
       "      <td>[]</td>\n",
       "      <td>success</td>\n",
       "    </tr>\n",
       "    <tr>\n",
       "      <th>...</th>\n",
       "      <td>...</td>\n",
       "      <td>...</td>\n",
       "    </tr>\n",
       "    <tr>\n",
       "      <th>shihtzu</th>\n",
       "      <td>[]</td>\n",
       "      <td>success</td>\n",
       "    </tr>\n",
       "    <tr>\n",
       "      <th>spaniel</th>\n",
       "      <td>[blenheim, brittany, cocker, irish, japanese, ...</td>\n",
       "      <td>success</td>\n",
       "    </tr>\n",
       "    <tr>\n",
       "      <th>spitz</th>\n",
       "      <td>[japanese]</td>\n",
       "      <td>success</td>\n",
       "    </tr>\n",
       "    <tr>\n",
       "      <th>springer</th>\n",
       "      <td>[english]</td>\n",
       "      <td>success</td>\n",
       "    </tr>\n",
       "    <tr>\n",
       "      <th>stbernard</th>\n",
       "      <td>[]</td>\n",
       "      <td>success</td>\n",
       "    </tr>\n",
       "    <tr>\n",
       "      <th>terrier</th>\n",
       "      <td>[american, australian, bedlington, border, cai...</td>\n",
       "      <td>success</td>\n",
       "    </tr>\n",
       "    <tr>\n",
       "      <th>tervuren</th>\n",
       "      <td>[]</td>\n",
       "      <td>success</td>\n",
       "    </tr>\n",
       "    <tr>\n",
       "      <th>vizsla</th>\n",
       "      <td>[]</td>\n",
       "      <td>success</td>\n",
       "    </tr>\n",
       "    <tr>\n",
       "      <th>waterdog</th>\n",
       "      <td>[spanish]</td>\n",
       "      <td>success</td>\n",
       "    </tr>\n",
       "    <tr>\n",
       "      <th>weimaraner</th>\n",
       "      <td>[]</td>\n",
       "      <td>success</td>\n",
       "    </tr>\n",
       "    <tr>\n",
       "      <th>whippet</th>\n",
       "      <td>[]</td>\n",
       "      <td>success</td>\n",
       "    </tr>\n",
       "    <tr>\n",
       "      <th>wolfhound</th>\n",
       "      <td>[irish]</td>\n",
       "      <td>success</td>\n",
       "    </tr>\n",
       "  </tbody>\n",
       "</table>\n",
       "<p>99 rows × 2 columns</p>\n",
       "</div>"
      ],
      "text/plain": [
       "                                                         message   status\n",
       "affenpinscher                                                 []  success\n",
       "african                                                       []  success\n",
       "airedale                                                      []  success\n",
       "akita                                                         []  success\n",
       "appenzeller                                                   []  success\n",
       "australian                                            [shepherd]  success\n",
       "basenji                                                       []  success\n",
       "beagle                                                        []  success\n",
       "bluetick                                                      []  success\n",
       "borzoi                                                        []  success\n",
       "bouvier                                                       []  success\n",
       "boxer                                                         []  success\n",
       "...                                                          ...      ...\n",
       "shihtzu                                                       []  success\n",
       "spaniel        [blenheim, brittany, cocker, irish, japanese, ...  success\n",
       "spitz                                                 [japanese]  success\n",
       "springer                                               [english]  success\n",
       "stbernard                                                     []  success\n",
       "terrier        [american, australian, bedlington, border, cai...  success\n",
       "tervuren                                                      []  success\n",
       "vizsla                                                        []  success\n",
       "waterdog                                               [spanish]  success\n",
       "weimaraner                                                    []  success\n",
       "whippet                                                       []  success\n",
       "wolfhound                                                [irish]  success\n",
       "\n",
       "[99 rows x 2 columns]"
      ]
     },
     "execution_count": 107,
     "metadata": {},
     "output_type": "execute_result"
    }
   ],
   "source": [
    "pd.DataFrame(dog)\n"
   ]
  },
  {
   "cell_type": "code",
   "execution_count": null,
   "metadata": {},
   "outputs": [],
   "source": [
    "3."
   ]
  },
  {
   "cell_type": "code",
   "execution_count": 111,
   "metadata": {},
   "outputs": [
    {
     "name": "stdout",
     "output_type": "stream",
     "text": [
      "emojihub: 200\n"
     ]
    }
   ],
   "source": [
    "emojihub = response = requests.get(\"https://emojihub.yurace.pro/api/random\")\n",
    "print(\"emojihub:\", emojihub.status_code)"
   ]
  },
  {
   "cell_type": "code",
   "execution_count": 119,
   "metadata": {},
   "outputs": [],
   "source": [
    "# print(emojihub)\n",
    "# print(len(emojihub.content))\n",
    "# emojihub.content"
   ]
  },
  {
   "cell_type": "code",
   "execution_count": 118,
   "metadata": {},
   "outputs": [],
   "source": [
    "# import json\n",
    "\n",
    "# response = requests.get(\"https://emojihub.yurace.pro/api/random\")\n",
    "# response.content\n",
    "# print(len(response.text))\n",
    "# emojihub = response.json()\n",
    "# emojihub"
   ]
  },
  {
   "cell_type": "code",
   "execution_count": 115,
   "metadata": {},
   "outputs": [
    {
     "data": {
      "text/plain": [
       "dict"
      ]
     },
     "execution_count": 115,
     "metadata": {},
     "output_type": "execute_result"
    }
   ],
   "source": [
    "type(emojihub)"
   ]
  },
  {
   "cell_type": "code",
   "execution_count": 116,
   "metadata": {},
   "outputs": [],
   "source": [
    "response = requests.get(\"https://emojihub.yurace.pro/api/random\")\n",
    "emojihub = pd.DataFrame(response.json())\n"
   ]
  },
  {
   "cell_type": "code",
   "execution_count": 117,
   "metadata": {},
   "outputs": [
    {
     "data": {
      "text/html": [
       "<div>\n",
       "<style scoped>\n",
       "    .dataframe tbody tr th:only-of-type {\n",
       "        vertical-align: middle;\n",
       "    }\n",
       "\n",
       "    .dataframe tbody tr th {\n",
       "        vertical-align: top;\n",
       "    }\n",
       "\n",
       "    .dataframe thead th {\n",
       "        text-align: right;\n",
       "    }\n",
       "</style>\n",
       "<table border=\"1\" class=\"dataframe\">\n",
       "  <thead>\n",
       "    <tr style=\"text-align: right;\">\n",
       "      <th></th>\n",
       "      <th>name</th>\n",
       "      <th>category</th>\n",
       "      <th>group</th>\n",
       "      <th>htmlCode</th>\n",
       "      <th>unicode</th>\n",
       "    </tr>\n",
       "  </thead>\n",
       "  <tbody>\n",
       "    <tr>\n",
       "      <th>0</th>\n",
       "      <td>black circle for record ≊ record button</td>\n",
       "      <td>symbols</td>\n",
       "      <td>symbols</td>\n",
       "      <td>&amp;#9210;</td>\n",
       "      <td>U+23FA</td>\n",
       "    </tr>\n",
       "  </tbody>\n",
       "</table>\n",
       "</div>"
      ],
      "text/plain": [
       "                                      name category    group htmlCode unicode\n",
       "0  black circle for record ≊ record button  symbols  symbols  &#9210;  U+23FA"
      ]
     },
     "execution_count": 117,
     "metadata": {},
     "output_type": "execute_result"
    }
   ],
   "source": [
    "pd.DataFrame(emojihub)\n"
   ]
  },
  {
   "cell_type": "code",
   "execution_count": null,
   "metadata": {},
   "outputs": [],
   "source": []
  },
  {
   "cell_type": "code",
   "execution_count": null,
   "metadata": {},
   "outputs": [],
   "source": []
  },
  {
   "cell_type": "code",
   "execution_count": null,
   "metadata": {},
   "outputs": [],
   "source": []
  },
  {
   "cell_type": "code",
   "execution_count": null,
   "metadata": {},
   "outputs": [],
   "source": []
  },
  {
   "cell_type": "code",
   "execution_count": null,
   "metadata": {},
   "outputs": [],
   "source": []
  },
  {
   "cell_type": "code",
   "execution_count": null,
   "metadata": {},
   "outputs": [],
   "source": []
  },
  {
   "cell_type": "code",
   "execution_count": null,
   "metadata": {},
   "outputs": [],
   "source": []
  },
  {
   "cell_type": "code",
   "execution_count": null,
   "metadata": {},
   "outputs": [],
   "source": []
  },
  {
   "cell_type": "code",
   "execution_count": null,
   "metadata": {},
   "outputs": [],
   "source": []
  },
  {
   "cell_type": "code",
   "execution_count": null,
   "metadata": {},
   "outputs": [],
   "source": []
  },
  {
   "cell_type": "code",
   "execution_count": null,
   "metadata": {},
   "outputs": [],
   "source": []
  },
  {
   "cell_type": "code",
   "execution_count": null,
   "metadata": {},
   "outputs": [],
   "source": []
  },
  {
   "cell_type": "code",
   "execution_count": null,
   "metadata": {},
   "outputs": [],
   "source": []
  },
  {
   "cell_type": "code",
   "execution_count": null,
   "metadata": {},
   "outputs": [],
   "source": []
  },
  {
   "cell_type": "code",
   "execution_count": null,
   "metadata": {},
   "outputs": [],
   "source": []
  },
  {
   "cell_type": "code",
   "execution_count": null,
   "metadata": {},
   "outputs": [],
   "source": []
  },
  {
   "cell_type": "code",
   "execution_count": null,
   "metadata": {},
   "outputs": [],
   "source": []
  },
  {
   "cell_type": "code",
   "execution_count": null,
   "metadata": {},
   "outputs": [],
   "source": []
  },
  {
   "cell_type": "code",
   "execution_count": null,
   "metadata": {},
   "outputs": [],
   "source": []
  },
  {
   "cell_type": "code",
   "execution_count": null,
   "metadata": {},
   "outputs": [],
   "source": []
  },
  {
   "cell_type": "code",
   "execution_count": null,
   "metadata": {},
   "outputs": [],
   "source": []
  },
  {
   "cell_type": "code",
   "execution_count": null,
   "metadata": {},
   "outputs": [],
   "source": []
  },
  {
   "cell_type": "code",
   "execution_count": null,
   "metadata": {},
   "outputs": [],
   "source": []
  },
  {
   "cell_type": "code",
   "execution_count": null,
   "metadata": {},
   "outputs": [],
   "source": []
  },
  {
   "cell_type": "code",
   "execution_count": null,
   "metadata": {},
   "outputs": [],
   "source": []
  },
  {
   "cell_type": "code",
   "execution_count": null,
   "metadata": {},
   "outputs": [],
   "source": []
  },
  {
   "cell_type": "code",
   "execution_count": null,
   "metadata": {},
   "outputs": [],
   "source": []
  },
  {
   "cell_type": "code",
   "execution_count": null,
   "metadata": {},
   "outputs": [],
   "source": []
  },
  {
   "cell_type": "code",
   "execution_count": null,
   "metadata": {},
   "outputs": [],
   "source": []
  },
  {
   "cell_type": "code",
   "execution_count": null,
   "metadata": {},
   "outputs": [],
   "source": []
  },
  {
   "cell_type": "code",
   "execution_count": null,
   "metadata": {},
   "outputs": [],
   "source": []
  },
  {
   "cell_type": "code",
   "execution_count": null,
   "metadata": {},
   "outputs": [],
   "source": []
  }
 ],
 "metadata": {
  "kernelspec": {
   "display_name": "Python 3 (ipykernel)",
   "language": "python",
   "name": "python3"
  },
  "language_info": {
   "codemirror_mode": {
    "name": "ipython",
    "version": 3
   },
   "file_extension": ".py",
   "mimetype": "text/x-python",
   "name": "python",
   "nbconvert_exporter": "python",
   "pygments_lexer": "ipython3",
   "version": "3.10.9"
  }
 },
 "nbformat": 4,
 "nbformat_minor": 4
}
